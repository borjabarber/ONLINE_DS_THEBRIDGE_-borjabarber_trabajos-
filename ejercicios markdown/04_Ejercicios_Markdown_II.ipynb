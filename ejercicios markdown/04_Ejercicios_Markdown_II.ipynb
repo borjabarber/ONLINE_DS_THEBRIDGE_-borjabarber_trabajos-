{
 "cells": [
  {
   "cell_type": "markdown",
   "id": "c49ba49d",
   "metadata": {
    "id": "c49ba49d"
   },
   "source": [
    "<img src=\"./img/TheBridge_logo_RGB_color.jpg\" width = 500>"
   ]
  },
  {
   "cell_type": "markdown",
   "id": "22ff8a1a",
   "metadata": {
    "id": "22ff8a1a"
   },
   "source": [
    "# EJERCICIOS MARKDOWN (II)"
   ]
  },
  {
   "cell_type": "markdown",
   "id": "d626df26",
   "metadata": {
    "id": "d626df26"
   },
   "source": [
    "Aquí tienes cinco sencillos ejercicios para practicar lo aprendido en la segundasesión de Markdown. Como en el anterior, utiliza las celdas que hay debajo dec cada enunciado y recuerda convertirlas a Markdown primero ;-)\n",
    "\n",
    "Si algunos ejercicios no los entiendes de primeras, dales una vuelta, busca pistas, busca en Internet... pero todavía no le preguntes a ChatGPT... Recuerda con dudas teóricas corre a preguntar, con los ejercicios exprimete antes de preguntar."
   ]
  },
  {
   "cell_type": "markdown",
   "id": "b2efd92f",
   "metadata": {
    "id": "b2efd92f"
   },
   "source": [
    "### Ejercicio 6: Listas\n",
    "Crea una lista no ordenada con los siguientes elementos:\n",
    "\n",
    "1. Manzanas\n",
    "2. Plátanos\n",
    "3. Uvas"
   ]
  },
  {
   "cell_type": "markdown",
   "id": "7b9efe70-704b-412b-a51d-12e7f9c53595",
   "metadata": {
    "id": "a20102cb"
   },
   "source": [
    "* manzanas\n",
    "* platanos\n",
    "* uvas\n",
    "  "
   ]
  },
  {
   "cell_type": "markdown",
   "id": "c8c2ff80",
   "metadata": {
    "id": "c8c2ff80"
   },
   "source": [
    "Crea ahora una lista ordenada de 1 a 3 y que además lo esté alfabéticamente con estos elementos:\n",
    "\n",
    "    * Arbol binario\n",
    "    * Random Forest\n",
    "    * Regresión Logística"
   ]
  },
  {
   "cell_type": "markdown",
   "id": "9e739803-aa56-47f9-92cf-6dbcbd603030",
   "metadata": {
    "id": "e5af15ee"
   },
   "source": [
    "1. Arbol binario\n",
    "2. Random Forest\n",
    "3. Regresión logística"
   ]
  },
  {
   "cell_type": "markdown",
   "id": "2c65c04a",
   "metadata": {
    "id": "2c65c04a"
   },
   "source": [
    "### Ejercicio 7: Listas Anidadas\n",
    "Bajo el título \"Frutas y Verduras\", crea una lista ordenada de frutas, y dentro de esta, anida una lista no ordenada de tres frutas. Luego, crea otra lista ordenada de verduras y anida dentro de ella una lista no ordenada de tres verduras.\n",
    "\n",
    "Las listas anidadas no las hemos visto pero seguro que con esto te haces una idea, como con los subrayados en los ejercicios de la primera parte:\n",
    "1. El elemento con orden\n",
    "* Aquí sin orden\n",
    "2. El siguiente\n",
    "* Pico\n",
    "* Pala\n"
   ]
  },
  {
   "cell_type": "markdown",
   "id": "b8bf9a40-0b90-4c4d-b9f6-f57a2ee49a48",
   "metadata": {
    "id": "0fc171fc"
   },
   "source": [
    "1. El elemento con orden\n",
    "* aqui sin orden\n",
    "\n",
    "2. El siguiente\n",
    "\n",
    "* Pico\n",
    "* Pala"
   ]
  },
  {
   "cell_type": "markdown",
   "id": "e224fbf7",
   "metadata": {
    "id": "e224fbf7"
   },
   "source": [
    "### Ejercicio 8: Enlaces e Imágenes\n",
    "Inserta:\n",
    "\n",
    "1. Un enlace que lleve a \"www.thebridge.com\" con el texto \"Por aquí se cruzan puentes\".\n",
    "2. Una imagen de cualquier URL con el texto alternativo \"Logo\". Recuerda que puedes hacerlo referenciando la imagen a través de su ruta en tu ordenador, o bien incrustandola en el notebook\n"
   ]
  },
  {
   "cell_type": "markdown",
   "id": "0e85d0e5-3998-498b-809e-2994b14825f2",
   "metadata": {
    "id": "2bcc0287"
   },
   "source": [
    "[Por aqui se cruzan caminos](www.thebridge.com)  \n",
    "![hola mundo](./gato.jpg) "
   ]
  },
  {
   "cell_type": "markdown",
   "id": "94e48fe3",
   "metadata": {
    "id": "94e48fe3"
   },
   "source": [
    "### Ejercicio 9: Líneas Horizontales y Bloques de Código\n",
    "Inserta:\n",
    "\n",
    "1. Un bloque de código en Python que imprima \"Hola Mundo\" (pista: print(\"Hola Mundo\")) entre dos líneas horizontales, cada una creada con un método diferente."
   ]
  },
  {
   "cell_type": "markdown",
   "id": "4fed67af-fc51-43eb-8383-620a5810b18c",
   "metadata": {
    "id": "9d31a21a"
   },
   "source": [
    "***\n",
    "``` python\n",
    "Print(\"Hola Mundo\")\n",
    "```\n",
    "---"
   ]
  },
  {
   "cell_type": "code",
   "execution_count": null,
   "id": "f12f94eb-8ec5-4685-83ff-bb6db9c2ad80",
   "metadata": {},
   "outputs": [],
   "source": []
  }
 ],
 "metadata": {
  "colab": {
   "provenance": []
  },
  "kernelspec": {
   "display_name": "Python 3 (ipykernel)",
   "language": "python",
   "name": "python3"
  },
  "language_info": {
   "codemirror_mode": {
    "name": "ipython",
    "version": 3
   },
   "file_extension": ".py",
   "mimetype": "text/x-python",
   "name": "python",
   "nbconvert_exporter": "python",
   "pygments_lexer": "ipython3",
   "version": "3.13.0"
  }
 },
 "nbformat": 4,
 "nbformat_minor": 5
}
