{
 "cells": [
  {
   "cell_type": "markdown",
   "metadata": {
    "id": "_9pTa0PXK9q6",
    "jp-MarkdownHeadingCollapsed": true
   },
   "source": [
    "## EJERCICIOS PYTHON BASICO 2:\n",
    "## Tipos y conversión de tipos"
   ]
  },
  {
   "cell_type": "markdown",
   "metadata": {
    "id": "tYmV-veoK9q6"
   },
   "source": [
    "Completa los siguiente ejercicios, la solución a los mismos se publicarán en el repo del curso a lo largo del sprint"
   ]
  },
  {
   "cell_type": "markdown",
   "metadata": {
    "id": "YAdFbIOXK9q7"
   },
   "source": [
    "\n",
    "\n",
    "## Ejercicio 1\n",
    "\n",
    "1. Crea dos variables numericas: un `int` y un `float`\n",
    "2. Comprueba sus tipos\n",
    "3. Sumalas en otra nueva\n",
    "4. ¿De qué tipo es la nueva variable?\n",
    "5. Elimina las dos primeras variables creadas"
   ]
  },
  {
   "cell_type": "code",
   "execution_count": 5,
   "metadata": {},
   "outputs": [
    {
     "name": "stdout",
     "output_type": "stream",
     "text": [
      "<class 'int'>\n",
      "<class 'float'>\n",
      "68.89\n",
      "<class 'float'>\n"
     ]
    }
   ],
   "source": [
    "#1\n",
    "variable1 = 34 \n",
    "variable2 = 34.89\n",
    "#2\n",
    "print(type(variable1)) \n",
    "print(type(variable2))\n",
    "#3\n",
    "suma_variables = variable1 + variable2 \n",
    "#4\n",
    "print(suma_variables) \n",
    "print(type(suma_variables))\n"
   ]
  },
  {
   "cell_type": "code",
   "execution_count": 6,
   "metadata": {
    "id": "8QZmuLOsK9q7"
   },
   "outputs": [],
   "source": [
    "#5 \n",
    "del variable1\n",
    "del variable2"
   ]
  },
  {
   "cell_type": "markdown",
   "metadata": {
    "id": "f5xfpkpQK9q7"
   },
   "source": [
    "\n",
    "\n",
    "## Ejercicio 2\n",
    "Escribe un programa para pasar de grados a radianes. Hay que usar `input`. Recuerda que la conversión se realiza mediante\n",
    "\n",
    "radianes = grados*(pi/180)"
   ]
  },
  {
   "cell_type": "code",
   "execution_count": 10,
   "metadata": {},
   "outputs": [
    {
     "name": "stdin",
     "output_type": "stream",
     "text": [
      "introduce un numero\n",
      " 6\n"
     ]
    },
    {
     "name": "stdout",
     "output_type": "stream",
     "text": [
      "el resultado es: 0.10471975511965978\n"
     ]
    }
   ],
   "source": [
    "import math\n",
    "num = input(\"introduce un numero\\n\")\n",
    "x=float(num)\n",
    "radianes = math.radians(x)\n",
    "print(\"el resultado es:\",radianes)"
   ]
  },
  {
   "cell_type": "markdown",
   "metadata": {
    "id": "zX3-p58CK9q7"
   },
   "source": [
    "\n",
    "\n",
    "## Ejercicio 3\n",
    "Escribe un programa que calcule el area de un paralelogramo (base x altura). También con `input`"
   ]
  },
  {
   "cell_type": "code",
   "execution_count": 3,
   "metadata": {
    "id": "s2QfNiBAK9q7"
   },
   "outputs": [
    {
     "name": "stdin",
     "output_type": "stream",
     "text": [
      "¿cual es el tamaño de la base? 7\n",
      "¿cual es la altura? 10\n"
     ]
    },
    {
     "name": "stdout",
     "output_type": "stream",
     "text": [
      "70\n"
     ]
    }
   ],
   "source": [
    "base = input(\"¿cual es el tamaño de la base?\") \n",
    "altura = input(\"¿cual es la altura?\")\n",
    "base_numerica = int(base)\n",
    "altura_numerica = int(altura)\n",
    "print(base_numerica * altura_numerica)\n"
   ]
  },
  {
   "cell_type": "markdown",
   "metadata": {
    "id": "-6TBo_HvK9q8"
   },
   "source": [
    "\n",
    "\n",
    "## Ejercicio 4\n",
    "Escribe un programa que calcule el area de un paralelogramo (base x altura). También con `input`. En este caso debe ser capaz de admitir valores reales, con decimales, para base y altura en español. (PISTA: Recuerda que tendrás que hacer uso del método replace)"
   ]
  },
  {
   "cell_type": "code",
   "execution_count": 7,
   "metadata": {
    "id": "uzUIa1JqK9q8"
   },
   "outputs": [
    {
     "name": "stdin",
     "output_type": "stream",
     "text": [
      "¿cual es el tamaño de la base? 3,45\n",
      "¿cual es la altura? 7,34\n"
     ]
    },
    {
     "name": "stdout",
     "output_type": "stream",
     "text": [
      "34.5\n"
     ]
    }
   ],
   "source": [
    "base2 = input(\"¿cual es el tamaño de la base?\")\n",
    "altura2 = input(\"¿cual es la altura?\")\n",
    "base2.replace(\",\" , \".\")\n",
    "base2_corregida = base2.replace(\",\" ,\".\")\n",
    "altura2.replace(\",\" , \".\")\n",
    "altura2_corregida = altura2.replace(\",\" , \".\")\n",
    "base2_numerica = float(base2_corregida)\n",
    "altura_numerica2 = float(altura2_corregida)\n",
    "print(base2_numerica*altura_numerica)"
   ]
  },
  {
   "cell_type": "markdown",
   "metadata": {
    "id": "5zKugi5iK9q8"
   },
   "source": [
    "\n",
    "\n",
    "## Ejercicio 5\n",
    "Complete el siguiente código para solicitar al usuario su nombre y su edad. Luego, calcule en qué año nació el usuario y muestre el resultado."
   ]
  },
  {
   "cell_type": "code",
   "execution_count": 16,
   "metadata": {},
   "outputs": [
    {
     "name": "stdin",
     "output_type": "stream",
     "text": [
      "¿cual es tu nombre? borja\n",
      "¿cual es tu edad? 39\n"
     ]
    },
    {
     "name": "stdout",
     "output_type": "stream",
     "text": [
      "entonces tu año de nacimiento es 1985\n"
     ]
    }
   ],
   "source": [
    "nombre = input(\"¿cual es tu nombre?\")\n",
    "edad = input(\"¿cual es tu edad?\")\n",
    "edad_numerica = int(edad)\n",
    "año_actual = 2024 \n",
    "año_de_nacimiento = año_actual - edad_numerica \n",
    "print(\"entonces tu año de nacimiento es\" ,año_de_nacimiento,)\n"
   ]
  },
  {
   "cell_type": "code",
   "execution_count": null,
   "metadata": {},
   "outputs": [],
   "source": []
  }
 ],
 "metadata": {
  "colab": {
   "provenance": []
  },
  "kernelspec": {
   "display_name": "Python 3 (ipykernel)",
   "language": "python",
   "name": "python3"
  },
  "language_info": {
   "codemirror_mode": {
    "name": "ipython",
    "version": 3
   },
   "file_extension": ".py",
   "mimetype": "text/x-python",
   "name": "python",
   "nbconvert_exporter": "python",
   "pygments_lexer": "ipython3",
   "version": "3.13.0"
  }
 },
 "nbformat": 4,
 "nbformat_minor": 4
}
