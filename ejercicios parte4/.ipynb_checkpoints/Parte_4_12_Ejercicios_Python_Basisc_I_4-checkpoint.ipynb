{
 "cells": [
  {
   "cell_type": "markdown",
   "metadata": {
    "id": "_NxpdcAkqLwF"
   },
   "source": [
    "## EJERCICIOS PYTHON BASICO 4:\n",
    "## Funciones, métodos, listas"
   ]
  },
  {
   "cell_type": "markdown",
   "metadata": {
    "id": "xTtbcOG9qLwG"
   },
   "source": [
    "Completa los siguiente ejercicios, la solución completa a los mismos se publicarán en el repo del curso a lo largo del sprint. En algunos ejercicios se muestra la solución final, para que puedas comprobar que lo has hecho bien, pero lo importante es el código que generes. ¡Vaaamos, a ello...!"
   ]
  },
  {
   "cell_type": "code",
   "execution_count": 12,
   "metadata": {},
   "outputs": [
    {
     "name": "stdout",
     "output_type": "stream",
     "text": [
      "8\n",
      "17\n",
      "63.451\n",
      "74\n"
     ]
    }
   ],
   "source": [
    "#1 \n",
    "print(max(4,6,8,-1))\n",
    "#2 \n",
    "print(4 + 6 + 8 - 1) \n",
    "#3 \n",
    "numero_float = 63.451256965 \n",
    "numero_redondeado = round(numero_float, 3)\n",
    "print(numero_redondeado)\n",
    "#4 \n",
    "numero = -74 \n",
    "numero_absoluto = abs(numero)\n",
    "print(numero_absoluto)\n",
    "\n",
    "\n"
   ]
  },
  {
   "cell_type": "code",
   "execution_count": null,
   "metadata": {
    "id": "GW_2XhDBqLwG"
   },
   "outputs": [],
   "source": []
  },
  {
   "cell_type": "code",
   "execution_count": 38,
   "metadata": {},
   "outputs": [
    {
     "name": "stdout",
     "output_type": "stream",
     "text": [
      "En un lugar de la mancha, de cuyo nombre no quiero acordarme\n",
      "EN UN LUGAR DE LA MANCHA, DE CUYO NOMBRE NO QUIERO ACORDARME\n",
      "en un lugar de la mancha, de cuyo nombre no quiero acordarme\n",
      "['En', 'un', 'lugar', 'de', 'la', 'mancha,', 'de', 'cuyo', 'nombre', 'no', 'quiero', 'acordarme']\n",
      "En un lugar de la mancha; de cuyo nombre no quiero acordarme\n",
      "En un lugr de l mnch, de cuyo nombre no quiero cordrme\n"
     ]
    }
   ],
   "source": [
    "texto_ejercicio = \"En un lugar de la mancha, de cuyo nombre no quiero acordarme\" \n",
    "print(texto_ejercicio)\n",
    "texto_mayusculas = texto_ejercicio.upper()\n",
    "print(texto_mayusculas)\n",
    "texto_minusculas = texto_ejercicio.lower()\n",
    "print(texto_minusculas)\n",
    "texto_lista = texto_ejercicio.split(\" \") \n",
    "print(texto_lista)\n",
    "texto_rem = texto_ejercicio.replace(\",\" , \";\") \n",
    "print(texto_rem)\n",
    "texto_a = texto_ejercicio.replace(\"a\", \"\")\n",
    "print(texto_a)\n",
    "\n"
   ]
  },
  {
   "cell_type": "code",
   "execution_count": 56,
   "metadata": {},
   "outputs": [
    {
     "name": "stdout",
     "output_type": "stream",
     "text": [
      "[3, 4, 5]\n",
      "[3, 4, 5, 6]\n",
      "18\n",
      "[3, 5, 6]\n",
      "[3, 5, 7, 6]\n",
      "[3, 5, 7, 6] [1, 3, 5, 6, 8]\n",
      "[3, 5, 6, 7]\n",
      "[7, 6, 5, 3]\n"
     ]
    }
   ],
   "source": [
    "lista = [3, 4 ,5] \n",
    "print(lista)\n",
    "lista.append(6)\n",
    "print(lista)\n",
    "lista_suma = sum(lista)\n",
    "print(lista_suma)\n",
    "lista.pop(1)\n",
    "print(lista)\n",
    "lista.insert(2, 7)\n",
    "print(lista)\n",
    "lista2 = [1, 3, 5, 6, 8,]\n",
    "print(lista, lista2)\n",
    "lista.sort()\n",
    "print(lista)\n",
    "lista.sort(reverse = True)\n",
    "print(lista)\n",
    "\n",
    "\n",
    "\n"
   ]
  }
 ],
 "metadata": {
  "colab": {
   "provenance": []
  },
  "kernelspec": {
   "display_name": "Python 3 (ipykernel)",
   "language": "python",
   "name": "python3"
  },
  "language_info": {
   "codemirror_mode": {
    "name": "ipython",
    "version": 3
   },
   "file_extension": ".py",
   "mimetype": "text/x-python",
   "name": "python",
   "nbconvert_exporter": "python",
   "pygments_lexer": "ipython3",
   "version": "3.13.0"
  }
 },
 "nbformat": 4,
 "nbformat_minor": 4
}
