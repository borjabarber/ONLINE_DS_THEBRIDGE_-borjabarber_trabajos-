{
 "cells": [
  {
   "cell_type": "markdown",
   "metadata": {
    "id": "LWCO1FW6qLwD"
   },
   "source": [
    "![TheBridge_logo_RGB_color.jpg](attachment:TheBridge_logo_RGB_color.jpg)"
   ]
  },
  {
   "cell_type": "markdown",
   "metadata": {
    "id": "uR2ZAV-CqLwF"
   },
   "source": [
    "![imagen](./img/ejercicios.png)"
   ]
  },
  {
   "cell_type": "markdown",
   "metadata": {
    "id": "_NxpdcAkqLwF"
   },
   "source": [
    "## EJERCICIOS PYTHON BASICO 4:\n",
    "## Funciones, métodos, listas"
   ]
  },
  {
   "cell_type": "markdown",
   "metadata": {
    "id": "xTtbcOG9qLwG"
   },
   "source": [
    "Completa los siguiente ejercicios, la solución completa a los mismos se publicarán en el repo del curso a lo largo del sprint. En algunos ejercicios se muestra la solución final, para que puedas comprobar que lo has hecho bien, pero lo importante es el código que generes. ¡Vaaamos, a ello...!"
   ]
  },
  {
   "cell_type": "markdown",
   "metadata": {
    "id": "bHybysrxqLwG"
   },
   "source": [
    "![ejercicio.png](./img/ejercicio.png)\n",
    "\n",
    "## Ejercicio 1\n",
    "Para este ejercicio vamos a poner en práctica [las funciones built in](https://docs.python.org/3/library/functions.html).\n",
    "\n",
    "1. Calcula el máximo de la lista: [4, 6, 8, -1]\n",
    "2. Suma todos los elementos de la lista anterior\n",
    "3. Redondea este float a 3 dígitos decimales: 63.451256965\n",
    "4. Valor absoluto de: -74"
   ]
  },
  {
   "cell_type": "code",
   "execution_count": 12,
   "metadata": {},
   "outputs": [
    {
     "name": "stdout",
     "output_type": "stream",
     "text": [
      "8\n",
      "17\n",
      "63.451\n",
      "74\n"
     ]
    }
   ],
   "source": [
    "#1 \n",
    "print(max(4,6,8,-1))\n",
    "#2 \n",
    "print(4 + 6 + 8 - 1) \n",
    "#3 \n",
    "numero_float = 63.451256965 \n",
    "numero_redondeado = round(numero_float, 3)\n",
    "print(numero_redondeado)\n",
    "#4 \n",
    "numero = -74 \n",
    "numero_absoluto = abs(numero)\n",
    "print(numero_absoluto)\n",
    "\n",
    "\n"
   ]
  },
  {
   "cell_type": "code",
   "execution_count": null,
   "metadata": {
    "id": "GW_2XhDBqLwG"
   },
   "outputs": [],
   "source": []
  },
  {
   "cell_type": "markdown",
   "metadata": {
    "id": "s9-FlZaeqLwH"
   },
   "source": [
    "![ejercicio.png](./img/ejercicio.png)\n",
    "\n",
    "## Ejercicio 2\n",
    "Para el siguiente string se pide imprimir por pantalla los siguientes casos\n",
    "\n",
    "    \"En un lugar de la Mancha, de cuyo nombre no quiero acordarme.\"\n",
    "\n",
    "1. Pásalo todo a mayúsculas\n",
    "2. Pásalo todo a minúsculas\n",
    "3. Solo la primera letra de cada palabra en mayúscula, el resto en minúscula\n",
    "4. Crea una lista dividiéndolo por sus espacios\n",
    "5. Sustituye las comas `,` por puntos y comas `;`\n",
    "6. Elimina las `a` minúsculas"
   ]
  },
  {
   "cell_type": "code",
   "execution_count": 38,
   "metadata": {},
   "outputs": [
    {
     "name": "stdout",
     "output_type": "stream",
     "text": [
      "En un lugar de la mancha, de cuyo nombre no quiero acordarme\n",
      "EN UN LUGAR DE LA MANCHA, DE CUYO NOMBRE NO QUIERO ACORDARME\n",
      "en un lugar de la mancha, de cuyo nombre no quiero acordarme\n",
      "['En', 'un', 'lugar', 'de', 'la', 'mancha,', 'de', 'cuyo', 'nombre', 'no', 'quiero', 'acordarme']\n",
      "En un lugar de la mancha; de cuyo nombre no quiero acordarme\n",
      "En un lugr de l mnch, de cuyo nombre no quiero cordrme\n"
     ]
    }
   ],
   "source": [
    "texto_ejercicio = \"En un lugar de la mancha, de cuyo nombre no quiero acordarme\" \n",
    "print(texto_ejercicio)\n",
    "texto_mayusculas = texto_ejercicio.upper()\n",
    "print(texto_mayusculas)\n",
    "texto_minusculas = texto_ejercicio.lower()\n",
    "print(texto_minusculas)\n",
    "texto_lista = texto_ejercicio.split(\" \") \n",
    "print(texto_lista)\n",
    "texto_rem = texto_ejercicio.replace(\",\" , \";\") \n",
    "print(texto_rem)\n",
    "texto_a = texto_ejercicio.replace(\"a\", \"\")\n",
    "print(texto_a)\n",
    "\n"
   ]
  },
  {
   "cell_type": "markdown",
   "metadata": {
    "id": "ec1ukgX1qLwI"
   },
   "source": [
    "![ejercicio.png](./img/ejercicio.png)\n",
    "\n",
    "## Ejercicio 3\n",
    "1. Crea una lista con 3 elementos numéricos\n",
    "2. Añade un cuarto elemento\n",
    "3. Calcula la suma de todos\n",
    "4. Elimina el segundo elemento de la lista\n",
    "5. Añade otro elemento en la posicion 3 de la lista\n",
    "6. Crea otra lista con 4 elementos y concaténala a la que ya tenías.\n",
    "7. Ordena la lista de menor a mayor.\n",
    "8. BONUS: Ordena la lista de mayor a menor.  \n",
    "(*PISTA: Para hacer 8, tendrás que buscar en la información del método...*)  \n",
    "  \n",
    "  \n",
    "NOTA: Pinta por pantalla el resultado de cada paso."
   ]
  },
  {
   "cell_type": "code",
   "execution_count": 56,
   "metadata": {},
   "outputs": [
    {
     "name": "stdout",
     "output_type": "stream",
     "text": [
      "[3, 4, 5]\n",
      "[3, 4, 5, 6]\n",
      "18\n",
      "[3, 5, 6]\n",
      "[3, 5, 7, 6]\n",
      "[3, 5, 7, 6] [1, 3, 5, 6, 8]\n",
      "[3, 5, 6, 7]\n",
      "[7, 6, 5, 3]\n"
     ]
    }
   ],
   "source": [
    "lista = [3, 4 ,5] \n",
    "print(lista)\n",
    "lista.append(6)\n",
    "print(lista)\n",
    "lista_suma = sum(lista)\n",
    "print(lista_suma)\n",
    "lista.pop(1)\n",
    "print(lista)\n",
    "lista.insert(2, 7)\n",
    "print(lista)\n",
    "lista2 = [1, 3, 5, 6, 8,]\n",
    "print(lista, lista2)\n",
    "lista.sort()\n",
    "print(lista)\n",
    "lista.sort(reverse = True)\n",
    "print(lista)\n",
    "\n",
    "\n",
    "\n"
   ]
  }
 ],
 "metadata": {
  "colab": {
   "provenance": []
  },
  "kernelspec": {
   "display_name": "Python 3 (ipykernel)",
   "language": "python",
   "name": "python3"
  },
  "language_info": {
   "codemirror_mode": {
    "name": "ipython",
    "version": 3
   },
   "file_extension": ".py",
   "mimetype": "text/x-python",
   "name": "python",
   "nbconvert_exporter": "python",
   "pygments_lexer": "ipython3",
   "version": "3.13.0"
  }
 },
 "nbformat": 4,
 "nbformat_minor": 4
}
