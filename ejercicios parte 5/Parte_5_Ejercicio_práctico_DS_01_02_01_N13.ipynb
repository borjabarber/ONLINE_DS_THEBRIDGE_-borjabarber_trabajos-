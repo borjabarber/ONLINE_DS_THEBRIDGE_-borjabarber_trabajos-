{
 "cells": [
  {
   "cell_type": "markdown",
   "metadata": {
    "id": "AyOlWS2nRWxH"
   },
   "source": [
    "## PRACTICA OBLIGATORIA: COLECCIONES Y FUNCIONES"
   ]
  },
  {
   "cell_type": "markdown",
   "metadata": {
    "id": "6UOgb0KVRWxH"
   },
   "source": [
    "* La práctica obligatoria de esta unidad consiste varios ejercicios de programación libre a completar sobre Colecciones y Funciones. Descarga este notebook en tu ordenador y trabaja en local.  \n",
    "* Recuerda que debes subirla a tu repositorio personal antes de la sesión en vivo para que puntúe adecuadamente y puedas participar en dicha sesión.  \n",
    "* Recuerda también que no es necesario que esté perfecta, sólo es necesario que se vea el esfuerzo.\n",
    "* Esta práctica se resolverá en la sesión en vivo correspondiente y la solución se publicará en el repo del curso."
   ]
  },
  {
   "cell_type": "markdown",
   "metadata": {
    "id": "j3yu-tEjRWxH"
   },
   "source": [
    "### Contenidos"
   ]
  },
  {
   "cell_type": "markdown",
   "metadata": {
    "id": "kO-fLH39RWxH"
   },
   "source": [
    "## Ejercicio 1\n",
    "Eleva todos los elementos de la lista al cuadrado\n",
    "> ```ejer_2 = [1,2,3,4,5]```"
   ]
  },
  {
   "cell_type": "code",
   "execution_count": 32,
   "metadata": {
    "id": "ks5l3yi7RWxH"
   },
   "outputs": [
    {
     "name": "stdout",
     "output_type": "stream",
     "text": [
      "[1, 4, 9, 4, 1, 4, 9, 16, 25, 16, 9, 4, 1]\n"
     ]
    }
   ],
   "source": [
    "import math \n",
    "lista_numeros = [1,2,3,2,1,2,3,4,5,4,3,2,1] \n",
    "lista_cuadrados = list(map(lambda x: x**2, lista_numeros))\n",
    "print(lista_cuadrados)"
   ]
  },
  {
   "cell_type": "code",
   "execution_count": null,
   "metadata": {},
   "outputs": [],
   "source": []
  },
  {
   "cell_type": "markdown",
   "metadata": {
    "id": "kI_Xr5oFRWxI"
   },
   "source": [
    "## Ejercicio 2\n",
    "Haz un programa que detecte todos los duplicados de un elemento en una lista:\n",
    "* Utiliza una variable duplicado para asignarle el valor del elemento del que queremos encontrar todos sus duplicados.\n",
    "* El programa debe devolver todos los índices de los elementos duplicados.\n",
    "* Aplícalo para encontrar los duplicados de \"un\", \"es\" y \"binario\" de:  \n",
    "\n",
    ">```ejer_3 = [\"Un\", \"árbol\", \"binario\", \"es\", \"una\", \"estructura\", \"de\", \"un\", \"tipo\", \"particular\", \"a\", \"veces\", \"no\", \"es\", \"ni\", \"binario\"]```\n"
   ]
  },
  {
   "cell_type": "code",
   "execution_count": 14,
   "metadata": {},
   "outputs": [
    {
     "name": "stdout",
     "output_type": "stream",
     "text": [
      "Los índices de los elementos duplicados de un son: [0, 7]\n",
      "Los índices de los elementos duplicados de es son: [3, 13]\n",
      "Los índices de los elementos duplicados de binario son: [2, 15]\n"
     ]
    }
   ],
   "source": [
    "def encontrar_duplicados (lista, duplicados):\n",
    "    indices = [i for i, elemento in enumerate(lista) if elemento == duplicados]\n",
    "    return indices\n",
    "\n",
    "\n",
    "lista = [\"un\", \"árbol\", \"binario\", \"es\", \"una\", \"estructura\", \"de\", \"un\", \"tipo\", \n",
    "          \"particular\", \"a\", \"veces\", \"no\", \"es\", \"ni\", \"binario\"]\n",
    "\n",
    "buscar_duplicados = \"un\", \"es\" , \"binario\"  \n",
    "\n",
    "for elemento in buscar_duplicados:\n",
    "    indices = encontrar_duplicados(lista, elemento)\n",
    "    print(\"Los índices de los elementos duplicados de\" ,elemento, \"son:\" ,indices,) \n",
    "    "
   ]
  },
  {
   "cell_type": "code",
   "execution_count": null,
   "metadata": {},
   "outputs": [],
   "source": []
  },
  {
   "cell_type": "code",
   "execution_count": null,
   "metadata": {
    "id": "cLY9WB7YRWxI"
   },
   "outputs": [],
   "source": []
  },
  {
   "cell_type": "markdown",
   "metadata": {
    "id": "3WrBd5QaRWxI"
   },
   "source": [
    "## Ejercicio 3\n",
    "1. ¿Cuántas veces se repite el 3 en la siguiente tupla?\n",
    "2. Crea una tupla nueva con los elementos desde la posicion 5 a la 10.\n",
    "3. ¿Cuántos elementos tiene la tupla `ejer_3`?\n",
    "> ```ejer_9 = (3, 20, 3, 47, 19, 3, 29, 45, 67, 78, 90, 3, 3, 5, 2, 4, 7, 9, 4, 2, 4, 3, 3, 4, 6, 7)```"
   ]
  },
  {
   "cell_type": "code",
   "execution_count": 19,
   "metadata": {},
   "outputs": [
    {
     "name": "stdout",
     "output_type": "stream",
     "text": [
      "el numero se repite 7 veces\n",
      "(3, 29, 45, 67, 78)\n",
      "26\n"
     ]
    }
   ],
   "source": [
    "tupla_ejercicio = (3, 20, 3, 47, 19, 3, 29, 45, 67, 78, 90, 3, 3, 5, 2, 4, 7, 9, 4, 2, 4, 3, 3, 4, 6, 7)\n",
    "\n",
    "#1\n",
    "numero_repetido = tupla_ejercicio.count(3)\n",
    "print(\"el numero se repite\" ,numero_repetido, \"veces\" )\n",
    "\n",
    "#2 \n",
    "nueva_tupla = tupla_ejercicio[5:10]\n",
    "print(nueva_tupla)\n",
    "\n",
    "#3\n",
    "print(len(tupla_ejercicio))\n"
   ]
  },
  {
   "cell_type": "code",
   "execution_count": null,
   "metadata": {
    "id": "bkv_R5LYRWxI"
   },
   "outputs": [],
   "source": []
  },
  {
   "cell_type": "markdown",
   "metadata": {
    "id": "6g8Y54AeRWxI"
   },
   "source": [
    "## Ejercicio 4\n",
    "Comprueba si el numero 60 esta en la tupla del ejercicio 3"
   ]
  },
  {
   "cell_type": "code",
   "execution_count": 26,
   "metadata": {},
   "outputs": [
    {
     "data": {
      "text/plain": [
       "False"
      ]
     },
     "execution_count": 26,
     "metadata": {},
     "output_type": "execute_result"
    }
   ],
   "source": [
    "tupla_ejercicio == 60\n"
   ]
  },
  {
   "cell_type": "code",
   "execution_count": null,
   "metadata": {
    "id": "F8VTEZonRWxI"
   },
   "outputs": [],
   "source": []
  },
  {
   "cell_type": "markdown",
   "metadata": {
    "id": "y0fg-ZA6RWxI"
   },
   "source": [
    "## Ejercicio 5\n",
    "1. Convierte la tupla del ejercicio 3 en una lista\n",
    "2. Convierte la tupla del ejercicio 3 en un set\n",
    "3. Convierte la tupla del ejercicio 3 en un diccionario. Usa también los indices"
   ]
  },
  {
   "cell_type": "code",
   "execution_count": 31,
   "metadata": {},
   "outputs": [
    {
     "name": "stdout",
     "output_type": "stream",
     "text": [
      "<class 'list'>\n",
      "<class 'set'>\n",
      "<class 'dict'>\n"
     ]
    }
   ],
   "source": [
    "#1 \n",
    "lista_nueva = list(tupla_ejercicio)\n",
    "print(type(lista_nueva))\n",
    "#2\n",
    "set_conv = set(tupla_ejercicio)\n",
    "print(type(set_conv))\n",
    "3#\n",
    "diccionario_conv = {i: tupla_ejercicio[i] for i in range(len(tupla_ejercicio))}\n",
    "print(type(diccionario_conv))\n",
    "\n",
    "\n"
   ]
  },
  {
   "cell_type": "code",
   "execution_count": null,
   "metadata": {
    "id": "_O5hXr01RWxI"
   },
   "outputs": [],
   "source": []
  },
  {
   "cell_type": "markdown",
   "metadata": {
    "id": "eOdWWbxvRWxJ"
   },
   "source": [
    "## Ejercicio 6\n",
    "Multiplica todos los valores del diccionario\n",
    "> ```ejer_6 = {1: 11, 2: 22, 3: 33, 4: 44, 5: 55}```"
   ]
  },
  {
   "cell_type": "code",
   "execution_count": 37,
   "metadata": {},
   "outputs": [
    {
     "name": "stdout",
     "output_type": "stream",
     "text": [
      "19326120\n"
     ]
    }
   ],
   "source": [
    "diccionario = {1: 11, 2: 22, 3: 33, 4: 44, 5: 55}\n",
    "\n",
    "resultado = 1 \n",
    "for i in diccionario.values():\n",
    "    resultado *= i\n",
    "print(resultado)"
   ]
  },
  {
   "cell_type": "code",
   "execution_count": null,
   "metadata": {},
   "outputs": [],
   "source": []
  },
  {
   "cell_type": "code",
   "execution_count": null,
   "metadata": {
    "id": "KcuByovKRWxJ"
   },
   "outputs": [],
   "source": []
  },
  {
   "cell_type": "markdown",
   "metadata": {
    "id": "W7TUSaKRRWxJ"
   },
   "source": [
    "## Ejercicio 7\n",
    "\n",
    "1. Crea un diccionario que describa un libro, con los siguientes campos o claves: \"titulo\",\"autor\",\"idioma original\",\"año de publicación\".\n",
    "2. Crea un a lista, llamada librería.\n",
    "3. Añade cuatro libros a tu elección a la librería."
   ]
  },
  {
   "cell_type": "code",
   "execution_count": 47,
   "metadata": {},
   "outputs": [
    {
     "name": "stdout",
     "output_type": "stream",
     "text": [
      "[{'titulo': 'sidarta', 'autor': 'herman_hesse', 'idioma original': 'ingles', 'año de publicacion': 1922}, {'titulo': 'alicia', 'autor': 'lewis carrol', 'idioma original': 'ingles', 'año de publicacion': 1865}, {'titulo': 'inventado', 'autor': 'personaje', 'idioma original': 'ingles', 'año de publicacion': 2022}, {'titulo': 'cosas de la vida', 'autor': 'victor chill', 'idioma original': 'ingles', 'año de publicacion': 2000}]\n"
     ]
    }
   ],
   "source": [
    "libro1 = {\n",
    "    \"titulo\": \"sidarta\", \n",
    "    \"autor\": \"herman_hesse\", \n",
    "    \"idioma original\": \"ingles\",\n",
    "    \"año de publicacion\": 1922, \n",
    "}\n",
    "libro1\n",
    "\n",
    "libreria = [libro1,] \n",
    "\n",
    "libro2 = {\n",
    "    \"titulo\": \"alicia\", \n",
    "    \"autor\": \"lewis carrol\", \n",
    "    \"idioma original\": \"ingles\",\n",
    "    \"año de publicacion\": 1865, \n",
    "}\n",
    "libro2\n",
    "\n",
    "libro3 = {\n",
    "    \"titulo\": \"inventado\", \n",
    "    \"autor\": \"personaje\", \n",
    "    \"idioma original\": \"ingles\",\n",
    "    \"año de publicacion\": 2022, \n",
    "}\n",
    "libro3\n",
    "\n",
    "libro4 = {\n",
    "    \"titulo\": \"cosas de la vida\", \n",
    "    \"autor\": \"victor chill\", \n",
    "    \"idioma original\": \"ingles\",\n",
    "    \"año de publicacion\": 2000, \n",
    "}\n",
    "libro4\n",
    "\n",
    "libreria.append(libro2)\n",
    "libreria.append(libro3)\n",
    "libreria.append(libro4)\n",
    "\n",
    "\n",
    "print(libreria)\n"
   ]
  },
  {
   "cell_type": "code",
   "execution_count": null,
   "metadata": {},
   "outputs": [],
   "source": [
    "\n"
   ]
  },
  {
   "cell_type": "code",
   "execution_count": null,
   "metadata": {},
   "outputs": [],
   "source": []
  },
  {
   "cell_type": "markdown",
   "metadata": {
    "id": "glMoedjYRWxJ"
   },
   "source": [
    "## Ejercicio 8\n",
    "Modifica los valores del idioma de todos los libros del ejercicio anterior para que sea \"esperanto\"\n"
   ]
  },
  {
   "cell_type": "code",
   "execution_count": 50,
   "metadata": {},
   "outputs": [
    {
     "name": "stdout",
     "output_type": "stream",
     "text": [
      "[{'titulo': 'sidarta', 'autor': 'herman_hesse', 'idioma original': 'esperanto', 'año de publicacion': 1922}, {'titulo': 'alicia', 'autor': 'lewis carrol', 'idioma original': 'esperanto', 'año de publicacion': 1865}, {'titulo': 'inventado', 'autor': 'personaje', 'idioma original': 'esperanto', 'año de publicacion': 2022}, {'titulo': 'cosas de la vida', 'autor': 'victor chill', 'idioma original': 'esperanto', 'año de publicacion': 2000}]\n"
     ]
    }
   ],
   "source": [
    "for i in libreria:\n",
    "    i[\"idioma original\"] = \"esperanto\"\n",
    "\n",
    "print(libreria)"
   ]
  },
  {
   "cell_type": "code",
   "execution_count": null,
   "metadata": {
    "id": "veNdC-uwRWxJ"
   },
   "outputs": [],
   "source": []
  },
  {
   "cell_type": "markdown",
   "metadata": {
    "id": "DRCJG04KRWxJ"
   },
   "source": [
    "## Ejercicio 9\n",
    "1. Escribe un programa que dada una variable titulo busque los libros que hay en la librería con ese título. Si no se encuentra debe devolver el mensaje `Ese no lo tengo, ¿mola?`\n",
    "2. Pruena que el programa con uno de tus libros y con otro que no contenga tu librería."
   ]
  },
  {
   "cell_type": "code",
   "execution_count": 55,
   "metadata": {},
   "outputs": [],
   "source": [
    "\n",
    "def buscar_libro(titulo):\n",
    "    encontrado = False  \n",
    "    for libro in libreria:\n",
    "        if libro[\"titulo\"] == titulo:\n",
    "            encontrado = True          \n",
    "\n",
    "    if encontrado:\n",
    "        print(\"Ese libro sí lo tengo\")\n",
    "    else:\n",
    "        print(\"Ese no lo tengo\")\n",
    "\n",
    "\n"
   ]
  },
  {
   "cell_type": "code",
   "execution_count": 57,
   "metadata": {
    "id": "eWHdJi9BRWxJ"
   },
   "outputs": [
    {
     "name": "stdout",
     "output_type": "stream",
     "text": [
      "Ese libro sí lo tengo\n",
      "Ese no lo tengo\n"
     ]
    }
   ],
   "source": [
    "buscar_libro(\"alicia\")\n",
    "buscar_libro(\"100 balas\")"
   ]
  },
  {
   "cell_type": "markdown",
   "metadata": {
    "id": "17YOpYuFRWxJ"
   },
   "source": [
    "## Ejercicio 10\n",
    "Convierte el programa del ejercicio 2 en una función al que se le pase el valor a buscar como un argumento posicional"
   ]
  },
  {
   "cell_type": "code",
   "execution_count": null,
   "metadata": {},
   "outputs": [],
   "source": []
  },
  {
   "cell_type": "code",
   "execution_count": null,
   "metadata": {
    "id": "xbj0LgvnRWxJ"
   },
   "outputs": [],
   "source": []
  },
  {
   "cell_type": "markdown",
   "metadata": {
    "id": "xZ-sWJxPRWxJ"
   },
   "source": [
    "## Ejercicio 11\n",
    "Convierte el programa del ejercicio 9 en una función al que se le pasen como argumentos la librería, posicional, y el título, argumento keyword con valor \"ninguno\", por defecto."
   ]
  },
  {
   "cell_type": "code",
   "execution_count": null,
   "metadata": {},
   "outputs": [],
   "source": []
  },
  {
   "cell_type": "code",
   "execution_count": null,
   "metadata": {
    "id": "4-JrsMdNRWxK"
   },
   "outputs": [],
   "source": []
  },
  {
   "cell_type": "markdown",
   "metadata": {
    "id": "FtJir95QRWxK"
   },
   "source": [
    "## Ejercicio 12\n",
    "Solicitar al usuario que ingrese su dirección email. Imprimir un mensaje indicando si la dirección es válida o no, valiéndose de una función para decidirlo. Una dirección se considerará válida si contiene el símbolo \"@\"."
   ]
  },
  {
   "cell_type": "code",
   "execution_count": 62,
   "metadata": {},
   "outputs": [
    {
     "name": "stdin",
     "output_type": "stream",
     "text": [
      "cual es tu mail email@email\n"
     ]
    },
    {
     "name": "stdout",
     "output_type": "stream",
     "text": [
      "gracias por la informacion\n"
     ]
    }
   ],
   "source": [
    "def validacion_email(email):\n",
    "    return \"@\" in email\n",
    "\n",
    "email_usuario = input(\"cual es tu mail\")\n",
    "\n",
    "if validacion_email(email_usuario):\n",
    "    print(\"gracias por la informacion\")\n",
    "\n",
    "else: \n",
    "    print(\"error en el email\")"
   ]
  },
  {
   "cell_type": "code",
   "execution_count": null,
   "metadata": {
    "id": "sk852IZ8RWxK"
   },
   "outputs": [],
   "source": []
  },
  {
   "cell_type": "markdown",
   "metadata": {
    "id": "Kw1MWBwBRWxK"
   },
   "source": [
    "## Ejercicio 13\n",
    "Escribe una función que compruebe si un DNI es válido, devolviendo `True` en caso afirmativo.  \n",
    "En primer lugar, el DNI debe tener entre 7 y 8 dígitos numéricos.  \n",
    "Para saber si la letra del DNI es correcta puedes utilizar el siguiente fragmento de código:\n",
    ">```Python\n",
    ">DNI= 55555555\n",
    ">palabra='TRWAGMYFPDXBNJZSQVHLCKE'\n",
    ">print('La letra del DNI es: ', palabra[DNI%23])\n",
    ">````\n"
   ]
  },
  {
   "cell_type": "code",
   "execution_count": null,
   "metadata": {},
   "outputs": [],
   "source": []
  },
  {
   "cell_type": "code",
   "execution_count": null,
   "metadata": {},
   "outputs": [],
   "source": []
  },
  {
   "cell_type": "code",
   "execution_count": null,
   "metadata": {
    "id": "F5Z9rSHqRWxK"
   },
   "outputs": [],
   "source": []
  }
 ],
 "metadata": {
  "colab": {
   "provenance": []
  },
  "kernelspec": {
   "display_name": "Python 3 (ipykernel)",
   "language": "python",
   "name": "python3"
  },
  "language_info": {
   "codemirror_mode": {
    "name": "ipython",
    "version": 3
   },
   "file_extension": ".py",
   "mimetype": "text/x-python",
   "name": "python",
   "nbconvert_exporter": "python",
   "pygments_lexer": "ipython3",
   "version": "3.13.0"
  }
 },
 "nbformat": 4,
 "nbformat_minor": 4
}
